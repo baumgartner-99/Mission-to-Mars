{
 "cells": [
  {
   "cell_type": "code",
   "execution_count": 8,
   "id": "14da40c4",
   "metadata": {},
   "outputs": [],
   "source": [
    "from splinter import Browser\n",
    "from bs4 import BeautifulSoup as soup\n",
    "from webdriver_manager.chrome import ChromeDriverManager\n",
    "import requests"
   ]
  },
  {
   "cell_type": "code",
   "execution_count": 2,
   "id": "8ee4cf9a",
   "metadata": {},
   "outputs": [],
   "source": [
    "# Set up Splinter\n",
    "executable_path = {'executable_path': ChromeDriverManager().install()}\n",
    "browser = Browser('chrome', **executable_path, headless=False)"
   ]
  },
  {
   "cell_type": "code",
   "execution_count": 3,
   "id": "53febb44",
   "metadata": {},
   "outputs": [],
   "source": [
    "# Visit the Books to Scrape site\n",
    "url = 'http://books.toscrape.com/'\n",
    "browser.visit(url)"
   ]
  },
  {
   "cell_type": "code",
   "execution_count": 4,
   "id": "05995573",
   "metadata": {},
   "outputs": [],
   "source": [
    "# Parse the HTML\n",
    "html = browser.html\n",
    "html_soup = soup(html, 'html.parser')"
   ]
  },
  {
   "cell_type": "code",
   "execution_count": 18,
   "id": "ae788467",
   "metadata": {},
   "outputs": [
    {
     "name": "stdout",
     "output_type": "stream",
     "text": [
      "['catalogue/a-light-in-the-attic_1000/index.html', 'catalogue/tipping-the-velvet_999/index.html', 'catalogue/soumission_998/index.html', 'catalogue/sharp-objects_997/index.html', 'catalogue/sapiens-a-brief-history-of-humankind_996/index.html', 'catalogue/the-requiem-red_995/index.html', 'catalogue/the-dirty-little-secrets-of-getting-your-dream-job_994/index.html', 'catalogue/the-coming-woman-a-novel-based-on-the-life-of-the-infamous-feminist-victoria-woodhull_993/index.html', 'catalogue/the-boys-in-the-boat-nine-americans-and-their-epic-quest-for-gold-at-the-1936-berlin-olympics_992/index.html', 'catalogue/the-black-maria_991/index.html', 'catalogue/starving-hearts-triangular-trade-trilogy-1_990/index.html', 'catalogue/shakespeares-sonnets_989/index.html', 'catalogue/set-me-free_988/index.html', 'catalogue/scott-pilgrims-precious-little-life-scott-pilgrim-1_987/index.html', 'catalogue/rip-it-up-and-start-again_986/index.html', 'catalogue/our-band-could-be-your-life-scenes-from-the-american-indie-underground-1981-1991_985/index.html', 'catalogue/olio_984/index.html', 'catalogue/mesaerion-the-best-science-fiction-stories-1800-1849_983/index.html', 'catalogue/libertarianism-for-beginners_982/index.html', 'catalogue/its-only-the-himalayas_981/index.html']\n"
     ]
    }
   ],
   "source": [
    "book_links = html_soup.find_all('li', class_='col-xs-6 col-sm-4 col-md-3 col-lg-3')\n",
    "\n",
    "links = []\n",
    "for link in book_links:\n",
    "    a = link.find('a')['href']    \n",
    "    links.append(a)\n",
    "print(links)"
   ]
  },
  {
   "cell_type": "code",
   "execution_count": 20,
   "id": "98d2ee15",
   "metadata": {},
   "outputs": [],
   "source": [
    "browser.quit()"
   ]
  },
  {
   "cell_type": "code",
   "execution_count": null,
   "id": "121fd814",
   "metadata": {},
   "outputs": [],
   "source": []
  }
 ],
 "metadata": {
  "kernelspec": {
   "display_name": "PythonData",
   "language": "python",
   "name": "pythondata"
  },
  "language_info": {
   "codemirror_mode": {
    "name": "ipython",
    "version": 3
   },
   "file_extension": ".py",
   "mimetype": "text/x-python",
   "name": "python",
   "nbconvert_exporter": "python",
   "pygments_lexer": "ipython3",
   "version": "3.7.13"
  }
 },
 "nbformat": 4,
 "nbformat_minor": 5
}
